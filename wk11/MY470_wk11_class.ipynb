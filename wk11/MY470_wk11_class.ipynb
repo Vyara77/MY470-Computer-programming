{
 "cells": [
  {
   "cell_type": "markdown",
   "metadata": {
    "slideshow": {
     "slide_type": "slide"
    }
   },
   "source": [
    "### MY470 Computer Programming\n",
    "# Preparation for the Final Assignment\n",
    "### Week 11 Lab, MT 2017"
   ]
  },
  {
   "cell_type": "markdown",
   "metadata": {
    "slideshow": {
     "slide_type": "slide"
    }
   },
   "source": [
    "## Wikipedia Data\n",
    "\n",
    "* All article edits since English Wikipedia started on January 15th, 2001 until the end of 2002\n",
    "* Edits are grouped by article and sorted in reverse chronological order\n"
   ]
  },
  {
   "cell_type": "markdown",
   "metadata": {
    "slideshow": {
     "slide_type": "slide"
    }
   },
   "source": [
    "## Data Variables\n",
    "\n",
    "| Variable   | Explanation   \n",
    "|:-----------|:-------\n",
    "| title      | title of the edited article               \n",
    "| time       | time in the format YYYY-MM-DD HH:MM:SS when the edit was completed  \n",
    "| revert     | 1 if the edit was detected to revert to a previous article version, 0 otherwise \n",
    "| version    | an integer indicating a unique state of the article, generally increasing over time; -1 indicates the article was empty (usually due to vandalism); if the same number appears more than once, then the article was exactly in the same state at these different time points  \n",
    "| user       | the editor's username or if not logged in, the editor's IP address   "
   ]
  },
  {
   "cell_type": "markdown",
   "metadata": {
    "slideshow": {
     "slide_type": "slide"
    }
   },
   "source": [
    "## Who Reverts Whom?\n",
    "\n",
    "If $i$ reverts article to version 25 then $i$ reverts the editor who made the edit immediately after edit 25.\n",
    "\n",
    "Thus, in this example, *Danny* reverted *Ezra_Wax*."
   ]
  },
  {
   "cell_type": "markdown",
   "metadata": {
    "slideshow": {
     "slide_type": "-"
    }
   },
   "source": [
    "```\n",
    "Jews \t2002-11-13 06:32:58\t0\t28\t67.118.18.27\n",
    "Jews \t2002-11-12 02:34:48\t0\t27\tRK\n",
    "Jews \t2002-11-03 04:28:10\t1\t25\tDanny\n",
    "Jews \t2002-11-03 04:22:04\t0\t26\tEzra_Wax\n",
    "Jews \t2002-10-26 09:46:54\t0\t25\tDerek_Ross\n",
    "```"
   ]
  },
  {
   "cell_type": "markdown",
   "metadata": {
    "slideshow": {
     "slide_type": "slide"
    }
   },
   "source": [
    "## Who Reverted Whom? Exercise 1"
   ]
  },
  {
   "cell_type": "markdown",
   "metadata": {
    "slideshow": {
     "slide_type": "-"
    }
   },
   "source": [
    "```\n",
    "Bill_Clymer\t2010-02-02 05:46:54\t1\t1\tEastmain\n",
    "Bill_Clymer\t2010-02-02 05:30:26\t0\t3\tNeonblak \n",
    "Bill_Clymer\t2010-02-02 05:21:28\t1\t1\tNeonblak\n",
    "Bill_Clymer\t2010-02-02 05:17:29\t0\t2\tMarine79\n",
    "Bill_Clymer\t2010-02-02 05:13:35\t0\t1\tNeonblak\n",
    "```"
   ]
  },
  {
   "cell_type": "markdown",
   "metadata": {
    "slideshow": {
     "slide_type": "slide"
    }
   },
   "source": [
    "## Who Reverted Whom? Exercise 2"
   ]
  },
  {
   "cell_type": "markdown",
   "metadata": {
    "slideshow": {
     "slide_type": "-"
    }
   },
   "source": [
    "```\n",
    "Bubble_sort \t2002-12-18 21:15:26\t0\t19\tAxelBoldt\n",
    "Bubble_sort \t2002-12-18 08:11:28\t0\t18\tIsis\n",
    "Bubble_sort \t2002-11-13 21:58:59\t1\t17\tFvdP\n",
    "Bubble_sort \t2002-11-13 21:53:17\t1\t16\tFvdP\n",
    "Bubble_sort \t2002-11-13 21:48:57\t0\t17\tJmallios\n",
    "Bubble_sort \t2002-11-13 20:59:59\t0\t16\t198.214.36.133\n",
    "```"
   ]
  },
  {
   "cell_type": "markdown",
   "metadata": {
    "slideshow": {
     "slide_type": "slide"
    }
   },
   "source": [
    "### Things to watch out for\n",
    "\n",
    "## Reverting Oneself — Don't Include in Network Data"
   ]
  },
  {
   "cell_type": "markdown",
   "metadata": {
    "slideshow": {
     "slide_type": "slide"
    }
   },
   "source": [
    "### Things to watch out for\n",
    "\n",
    "## Edit but No Change — Don't Count As a Revert"
   ]
  },
  {
   "cell_type": "markdown",
   "metadata": {
    "slideshow": {
     "slide_type": "-"
    }
   },
   "source": [
    "```\n",
    "Supermarine_Spitfire \t2002-09-27 19:45:25\t0\t23\tMaury_Markowitz\n",
    "Supermarine_Spitfire \t2002-09-03 06:02:42\t0\t22\t62.253.64.7\n",
    "Supermarine_Spitfire \t2002-06-20 13:01:19\t1\t21\tUriyan\n",
    "Supermarine_Spitfire \t2002-06-20 12:59:27\t0\t21\tMaury_Markowitz\n",
    "Supermarine_Spitfire \t2002-06-20 12:58:00\t0\t20\tMaury_Markowitz\n",
    "```"
   ]
  },
  {
   "cell_type": "markdown",
   "metadata": {
    "collapsed": true,
    "slideshow": {
     "slide_type": "fragment"
    }
   },
   "source": [
    "In essence, Uriyan made no meaningful changes to the article"
   ]
  },
  {
   "cell_type": "markdown",
   "metadata": {
    "slideshow": {
     "slide_type": "slide"
    }
   },
   "source": [
    "### Things to watch out for\n",
    "\n",
    "## Reverts of Article Deletions — It Is Still a Revert"
   ]
  },
  {
   "cell_type": "markdown",
   "metadata": {
    "slideshow": {
     "slide_type": "-"
    }
   },
   "source": [
    "```\n",
    "Sport \t2002-11-02 11:21:17\t0\t74\t131.203.5.202\n",
    "Sport \t2002-10-24 00:55:27\t0\t73\t12.246.119.53\n",
    "Sport \t2002-10-08 18:42:18\t1\t72\t200.165.239.234\n",
    "Sport \t2002-10-08 18:10:10\t0\t-1\t165.139.124.250\n",
    "Sport \t2002-10-08 06:58:52\t0\t72\tKoyaanis_Qatsi\n",
    "Sport \t2002-09-25 00:54:47\t0\t71\tChristian_List\n",
    "```"
   ]
  },
  {
   "cell_type": "markdown",
   "metadata": {
    "collapsed": true,
    "slideshow": {
     "slide_type": "fragment"
    }
   },
   "source": [
    "200.165.239.234 reverted 165.139.124.250"
   ]
  },
  {
   "cell_type": "markdown",
   "metadata": {
    "slideshow": {
     "slide_type": "slide"
    }
   },
   "source": [
    "### Things to watch out for\n",
    "\n",
    "## Multiple Edits Reverted — Count Only The One Immediately After the Restored Version"
   ]
  },
  {
   "cell_type": "markdown",
   "metadata": {
    "slideshow": {
     "slide_type": "-"
    }
   },
   "source": [
    "```\n",
    "Theory_of_evolution \t2002-12-22 23:48:04\t0\t24\tCyde\n",
    "Theory_of_evolution \t2002-12-22 23:47:09\t0\t23\tCyde\n",
    "Theory_of_evolution \t2002-12-20 17:49:32\t1\t21\tDhum_Dhum\n",
    "Theory_of_evolution \t2002-12-20 17:43:53\t0\t22\t216.229.90.232\n",
    "Theory_of_evolution \t2002-12-20 14:55:36\t0\t-1\t64.12.96.103\n",
    "Theory_of_evolution \t2002-12-19 12:10:40\t0\t21\tValery_Beaud\n",
    "Theory_of_evolution \t2002-11-26 19:36:40\t0\t20\t195.93.73.8\n",
    "```"
   ]
  },
  {
   "cell_type": "markdown",
   "metadata": {
    "collapsed": true,
    "slideshow": {
     "slide_type": "fragment"
    }
   },
   "source": [
    "Dhum_Dhum reverted 64.12.96.103"
   ]
  },
  {
   "cell_type": "markdown",
   "metadata": {
    "slideshow": {
     "slide_type": "slide"
    }
   },
   "source": [
    "### Things to watch out for\n",
    "\n",
    "## Reverts in Sequence — Count As Usual"
   ]
  },
  {
   "cell_type": "markdown",
   "metadata": {
    "slideshow": {
     "slide_type": "-"
    }
   },
   "source": [
    "```\n",
    "Diva_Zappa \t2010-02-02 04:15:27\t0\t15\tBurpelson_AFB\n",
    "Diva_Zappa \t2010-02-02 04:06:02\t0\t14\tTtonyb1\n",
    "Diva_Zappa \t2010-02-02 04:05:44\t1\t10\tBurpelson_AFB\n",
    "Diva_Zappa \t2010-02-02 04:05:10\t1\t11\tBurpelson_AFB\n",
    "Diva_Zappa \t2010-02-02 03:21:33\t0\t13\tTtonyb1\n",
    "Diva_Zappa \t2010-02-02 03:21:01\t0\t12\tTtonyb1\n",
    "Diva_Zappa \t2010-02-02 03:15:47\t0\t11\tTtonyb1\n",
    "Diva_Zappa \t2010-02-02 03:02:27\t0\t10\tBurpelson_AFB\n",
    "Diva_Zappa \t 2010-02-02 02:59:40\t0\t9\tBurpelson_AFB   \n",
    "```"
   ]
  },
  {
   "cell_type": "markdown",
   "metadata": {
    "collapsed": true,
    "slideshow": {
     "slide_type": "fragment"
    }
   },
   "source": [
    "Burpelson_AFB reverted Ttonyb1 at time 2010-02-02 04:05:10 and at time 2010-02-02 04:05:44"
   ]
  },
  {
   "cell_type": "markdown",
   "metadata": {
    "slideshow": {
     "slide_type": "slide"
    }
   },
   "source": [
    "## Who Reverted Whom? Exercise 3"
   ]
  },
  {
   "cell_type": "markdown",
   "metadata": {
    "slideshow": {
     "slide_type": "-"
    }
   },
   "source": [
    "```\n",
    "Óriás_pekari\t2010-11-06 00:52:23\t1\t13\tAlensha\n",
    "Óriás_pekari\t2010-11-05 08:43:36\t1\t11\tProki\n",
    "Óriás_pekari\t2010-11-05 07:23:31\t0\t13\tWinston\n",
    "Óriás_pekari\t2010-11-05 07:21:13\t1\t8\tWinston\n",
    "Óriás_pekari\t2010-11-04 19:57:53\t0\t12\tProki\n",
    "Óriás_pekari\t2010-11-04 19:57:22\t0\t11\tProki\n",
    "Óriás_pekari\t2010-11-04 19:54:53\t0\t10\tProki\n",
    "Óriás_pekari\t2010-11-04 19:53:48\t0\t9\tProki\n",
    "Óriás_pekari\t2010-11-04 19:48:23\t0\t8\tProki\n",
    "Óriás_pekari\t2010-11-04 19:47:55\t0\t7\tProki\n",
    "```"
   ]
  },
  {
   "cell_type": "markdown",
   "metadata": {
    "slideshow": {
     "slide_type": "slide"
    }
   },
   "source": [
    "## Assignment Tasks\n",
    "\n",
    "(1) Get who reverted whom and when + how many edits they had when this happened\n",
    "\n",
    "* Test on a subset of the data while writing the code\n",
    "* Save the resulting network data to avoid doing all the data processing again and again"
   ]
  },
  {
   "cell_type": "markdown",
   "metadata": {
    "slideshow": {
     "slide_type": "fragment"
    }
   },
   "source": [
    "(2) Identify reverts that are part of $ABBA$ motifs\n",
    "\n",
    "* $A$ reverts $B$ and after time $t$ $B$ reverts $A$, where $t <= 24$ hours\n",
    "* Regardless of whether $A$ and $B$ have been involved in any other reverts in the meantime!\n",
    "* Again, it may make sense to save this information, in cases when the processing time is long"
   ]
  },
  {
   "cell_type": "markdown",
   "metadata": {
    "slideshow": {
     "slide_type": "fragment"
    }
   },
   "source": [
    "(3) Analyze the difference in seniority between editors involved in $ABBA$ motifs and editors involved in any other revert\n",
    "\n",
    "* Seniority = $\\log_{10}$(# edits until event)\n",
    "* Estimate the difference in the means of the two kinds of reverts (those part of $ABBA$ motifs and all others)"
   ]
  },
  {
   "cell_type": "markdown",
   "metadata": {
    "slideshow": {
     "slide_type": "slide"
    }
   },
   "source": [
    "## Working with Dates: `datetime`\n",
    "\n",
    "https://docs.python.org/3/library/datetime.html"
   ]
  },
  {
   "cell_type": "code",
   "execution_count": 6,
   "metadata": {
    "slideshow": {
     "slide_type": "-"
    }
   },
   "outputs": [
    {
     "name": "stdout",
     "output_type": "stream",
     "text": [
      "<class 'datetime.datetime'> 2002-02-25 15:51:15\n",
      "<class 'datetime.timedelta'> 1 day, 0:00:00\n",
      "<class 'datetime.timedelta'> 1 day, 0:00:00\n"
     ]
    }
   ],
   "source": [
    "from datetime import datetime, timedelta\n",
    "\n",
    "\n",
    "# Transform string into datetime object\n",
    "string = '2002-02-25 15:51:15'\n",
    "dt = datetime.strptime(string, \"%Y-%m-%d %H:%M:%S\")\n",
    "print(type(dt), dt)\n",
    "\n",
    "\n",
    "# Get difference between two dates\n",
    "\n",
    "day1 = dt - datetime(2002, 2, 24, 15, 51, 15)\n",
    "print(type(day1), day1)\n",
    "\n",
    "day2 = timedelta(hours=24)\n",
    "print(type(day2), day2)"
   ]
  },
  {
   "cell_type": "markdown",
   "metadata": {
    "slideshow": {
     "slide_type": "slide"
    }
   },
   "source": [
    "## Saving Python Objects to Disk: `pickle`\n",
    "\n",
    "https://docs.python.org/3/library/pickle.html"
   ]
  },
  {
   "cell_type": "code",
   "execution_count": 12,
   "metadata": {
    "slideshow": {
     "slide_type": "-"
    }
   },
   "outputs": [
    {
     "name": "stdout",
     "output_type": "stream",
     "text": [
      "<class 'dict'> {1: 'a', 2: 'b'}\n"
     ]
    }
   ],
   "source": [
    "import pickle\n",
    "\n",
    "# Note: Open files in binary mode\n",
    "\n",
    "# Pickle Python object\n",
    "obj = {1:'a', 2:'b'}\n",
    "with open ('dict_pickle', 'wb') as fw:\n",
    "    pickle.dump(obj, fw)\n",
    "\n",
    "# Unpickle saved Python object\n",
    "with open ('dict_pickle', 'rb') as fr:\n",
    "    obj_retrieved = pickle.load(fr)\n",
    "    \n",
    "print(type(obj_retrieved), obj_retrieved)"
   ]
  },
  {
   "cell_type": "code",
   "execution_count": 2,
   "metadata": {
    "slideshow": {
     "slide_type": "slide"
    }
   },
   "outputs": [],
   "source": [
    "# Exercise 4. \n",
    "# Read the file enwiki_2002_sample.txt and save the data in a variable as a list. \n",
    "# Count the number of edits and the number of edits marked as reverts.\n"
   ]
  },
  {
   "cell_type": "code",
   "execution_count": 1,
   "metadata": {
    "slideshow": {
     "slide_type": "-"
    }
   },
   "outputs": [],
   "source": [
    "# Exercise 5.\n",
    "# Pickle the list variable. Then load it back in memory from the pickle.\n"
   ]
  }
 ],
 "metadata": {
  "celltoolbar": "Slideshow",
  "kernelspec": {
   "display_name": "Python [default]",
   "language": "python",
   "name": "python3"
  },
  "language_info": {
   "codemirror_mode": {
    "name": "ipython",
    "version": 3
   },
   "file_extension": ".py",
   "mimetype": "text/x-python",
   "name": "python",
   "nbconvert_exporter": "python",
   "pygments_lexer": "ipython3",
   "version": "3.6.3"
  }
 },
 "nbformat": 4,
 "nbformat_minor": 2
}
